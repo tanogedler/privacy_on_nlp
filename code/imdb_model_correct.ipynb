{
  "nbformat": 4,
  "nbformat_minor": 0,
  "metadata": {
    "colab": {
      "provenance": [],
      "gpuType": "T4"
    },
    "kernelspec": {
      "name": "python3",
      "display_name": "Python 3"
    },
    "language_info": {
      "name": "python"
    },
    "accelerator": "GPU",
    "gpuClass": "standard",
    "widgets": {
      "application/vnd.jupyter.widget-state+json": {
        "5ceb8b790eb84358afb5abbffe0c815a": {
          "model_module": "@jupyter-widgets/controls",
          "model_name": "HBoxModel",
          "model_module_version": "1.5.0",
          "state": {
            "_dom_classes": [],
            "_model_module": "@jupyter-widgets/controls",
            "_model_module_version": "1.5.0",
            "_model_name": "HBoxModel",
            "_view_count": null,
            "_view_module": "@jupyter-widgets/controls",
            "_view_module_version": "1.5.0",
            "_view_name": "HBoxView",
            "box_style": "",
            "children": [
              "IPY_MODEL_aef8fa013a4340aaa6a3db506404d072",
              "IPY_MODEL_3f1e152539f94d94a25d779fb61aeacf",
              "IPY_MODEL_32526b6068ac4ee7b77f4ac9c2454f16"
            ],
            "layout": "IPY_MODEL_304a249b08814dfea9de9a9d031087b2"
          }
        },
        "aef8fa013a4340aaa6a3db506404d072": {
          "model_module": "@jupyter-widgets/controls",
          "model_name": "HTMLModel",
          "model_module_version": "1.5.0",
          "state": {
            "_dom_classes": [],
            "_model_module": "@jupyter-widgets/controls",
            "_model_module_version": "1.5.0",
            "_model_name": "HTMLModel",
            "_view_count": null,
            "_view_module": "@jupyter-widgets/controls",
            "_view_module_version": "1.5.0",
            "_view_name": "HTMLView",
            "description": "",
            "description_tooltip": null,
            "layout": "IPY_MODEL_357c7b2ed2eb4c19bcc102d4bc795a7d",
            "placeholder": "​",
            "style": "IPY_MODEL_40bbad72b0c849f380959a461deeb1e7",
            "value": "100%"
          }
        },
        "3f1e152539f94d94a25d779fb61aeacf": {
          "model_module": "@jupyter-widgets/controls",
          "model_name": "FloatProgressModel",
          "model_module_version": "1.5.0",
          "state": {
            "_dom_classes": [],
            "_model_module": "@jupyter-widgets/controls",
            "_model_module_version": "1.5.0",
            "_model_name": "FloatProgressModel",
            "_view_count": null,
            "_view_module": "@jupyter-widgets/controls",
            "_view_module_version": "1.5.0",
            "_view_name": "ProgressView",
            "bar_style": "success",
            "description": "",
            "description_tooltip": null,
            "layout": "IPY_MODEL_b81a2e3d40fe4f6db20a39d98fbdd49d",
            "max": 3,
            "min": 0,
            "orientation": "horizontal",
            "style": "IPY_MODEL_dfc68d2db61a4a11a597b14ba86722f8",
            "value": 3
          }
        },
        "32526b6068ac4ee7b77f4ac9c2454f16": {
          "model_module": "@jupyter-widgets/controls",
          "model_name": "HTMLModel",
          "model_module_version": "1.5.0",
          "state": {
            "_dom_classes": [],
            "_model_module": "@jupyter-widgets/controls",
            "_model_module_version": "1.5.0",
            "_model_name": "HTMLModel",
            "_view_count": null,
            "_view_module": "@jupyter-widgets/controls",
            "_view_module_version": "1.5.0",
            "_view_name": "HTMLView",
            "description": "",
            "description_tooltip": null,
            "layout": "IPY_MODEL_a223f9abe100443e86353c66b8d0ea62",
            "placeholder": "​",
            "style": "IPY_MODEL_ac32afddb3e8457a8abd55164c1b2a7c",
            "value": " 3/3 [00:00&lt;00:00, 61.41it/s]"
          }
        },
        "304a249b08814dfea9de9a9d031087b2": {
          "model_module": "@jupyter-widgets/base",
          "model_name": "LayoutModel",
          "model_module_version": "1.2.0",
          "state": {
            "_model_module": "@jupyter-widgets/base",
            "_model_module_version": "1.2.0",
            "_model_name": "LayoutModel",
            "_view_count": null,
            "_view_module": "@jupyter-widgets/base",
            "_view_module_version": "1.2.0",
            "_view_name": "LayoutView",
            "align_content": null,
            "align_items": null,
            "align_self": null,
            "border": null,
            "bottom": null,
            "display": null,
            "flex": null,
            "flex_flow": null,
            "grid_area": null,
            "grid_auto_columns": null,
            "grid_auto_flow": null,
            "grid_auto_rows": null,
            "grid_column": null,
            "grid_gap": null,
            "grid_row": null,
            "grid_template_areas": null,
            "grid_template_columns": null,
            "grid_template_rows": null,
            "height": null,
            "justify_content": null,
            "justify_items": null,
            "left": null,
            "margin": null,
            "max_height": null,
            "max_width": null,
            "min_height": null,
            "min_width": null,
            "object_fit": null,
            "object_position": null,
            "order": null,
            "overflow": null,
            "overflow_x": null,
            "overflow_y": null,
            "padding": null,
            "right": null,
            "top": null,
            "visibility": null,
            "width": null
          }
        },
        "357c7b2ed2eb4c19bcc102d4bc795a7d": {
          "model_module": "@jupyter-widgets/base",
          "model_name": "LayoutModel",
          "model_module_version": "1.2.0",
          "state": {
            "_model_module": "@jupyter-widgets/base",
            "_model_module_version": "1.2.0",
            "_model_name": "LayoutModel",
            "_view_count": null,
            "_view_module": "@jupyter-widgets/base",
            "_view_module_version": "1.2.0",
            "_view_name": "LayoutView",
            "align_content": null,
            "align_items": null,
            "align_self": null,
            "border": null,
            "bottom": null,
            "display": null,
            "flex": null,
            "flex_flow": null,
            "grid_area": null,
            "grid_auto_columns": null,
            "grid_auto_flow": null,
            "grid_auto_rows": null,
            "grid_column": null,
            "grid_gap": null,
            "grid_row": null,
            "grid_template_areas": null,
            "grid_template_columns": null,
            "grid_template_rows": null,
            "height": null,
            "justify_content": null,
            "justify_items": null,
            "left": null,
            "margin": null,
            "max_height": null,
            "max_width": null,
            "min_height": null,
            "min_width": null,
            "object_fit": null,
            "object_position": null,
            "order": null,
            "overflow": null,
            "overflow_x": null,
            "overflow_y": null,
            "padding": null,
            "right": null,
            "top": null,
            "visibility": null,
            "width": null
          }
        },
        "40bbad72b0c849f380959a461deeb1e7": {
          "model_module": "@jupyter-widgets/controls",
          "model_name": "DescriptionStyleModel",
          "model_module_version": "1.5.0",
          "state": {
            "_model_module": "@jupyter-widgets/controls",
            "_model_module_version": "1.5.0",
            "_model_name": "DescriptionStyleModel",
            "_view_count": null,
            "_view_module": "@jupyter-widgets/base",
            "_view_module_version": "1.2.0",
            "_view_name": "StyleView",
            "description_width": ""
          }
        },
        "b81a2e3d40fe4f6db20a39d98fbdd49d": {
          "model_module": "@jupyter-widgets/base",
          "model_name": "LayoutModel",
          "model_module_version": "1.2.0",
          "state": {
            "_model_module": "@jupyter-widgets/base",
            "_model_module_version": "1.2.0",
            "_model_name": "LayoutModel",
            "_view_count": null,
            "_view_module": "@jupyter-widgets/base",
            "_view_module_version": "1.2.0",
            "_view_name": "LayoutView",
            "align_content": null,
            "align_items": null,
            "align_self": null,
            "border": null,
            "bottom": null,
            "display": null,
            "flex": null,
            "flex_flow": null,
            "grid_area": null,
            "grid_auto_columns": null,
            "grid_auto_flow": null,
            "grid_auto_rows": null,
            "grid_column": null,
            "grid_gap": null,
            "grid_row": null,
            "grid_template_areas": null,
            "grid_template_columns": null,
            "grid_template_rows": null,
            "height": null,
            "justify_content": null,
            "justify_items": null,
            "left": null,
            "margin": null,
            "max_height": null,
            "max_width": null,
            "min_height": null,
            "min_width": null,
            "object_fit": null,
            "object_position": null,
            "order": null,
            "overflow": null,
            "overflow_x": null,
            "overflow_y": null,
            "padding": null,
            "right": null,
            "top": null,
            "visibility": null,
            "width": null
          }
        },
        "dfc68d2db61a4a11a597b14ba86722f8": {
          "model_module": "@jupyter-widgets/controls",
          "model_name": "ProgressStyleModel",
          "model_module_version": "1.5.0",
          "state": {
            "_model_module": "@jupyter-widgets/controls",
            "_model_module_version": "1.5.0",
            "_model_name": "ProgressStyleModel",
            "_view_count": null,
            "_view_module": "@jupyter-widgets/base",
            "_view_module_version": "1.2.0",
            "_view_name": "StyleView",
            "bar_color": null,
            "description_width": ""
          }
        },
        "a223f9abe100443e86353c66b8d0ea62": {
          "model_module": "@jupyter-widgets/base",
          "model_name": "LayoutModel",
          "model_module_version": "1.2.0",
          "state": {
            "_model_module": "@jupyter-widgets/base",
            "_model_module_version": "1.2.0",
            "_model_name": "LayoutModel",
            "_view_count": null,
            "_view_module": "@jupyter-widgets/base",
            "_view_module_version": "1.2.0",
            "_view_name": "LayoutView",
            "align_content": null,
            "align_items": null,
            "align_self": null,
            "border": null,
            "bottom": null,
            "display": null,
            "flex": null,
            "flex_flow": null,
            "grid_area": null,
            "grid_auto_columns": null,
            "grid_auto_flow": null,
            "grid_auto_rows": null,
            "grid_column": null,
            "grid_gap": null,
            "grid_row": null,
            "grid_template_areas": null,
            "grid_template_columns": null,
            "grid_template_rows": null,
            "height": null,
            "justify_content": null,
            "justify_items": null,
            "left": null,
            "margin": null,
            "max_height": null,
            "max_width": null,
            "min_height": null,
            "min_width": null,
            "object_fit": null,
            "object_position": null,
            "order": null,
            "overflow": null,
            "overflow_x": null,
            "overflow_y": null,
            "padding": null,
            "right": null,
            "top": null,
            "visibility": null,
            "width": null
          }
        },
        "ac32afddb3e8457a8abd55164c1b2a7c": {
          "model_module": "@jupyter-widgets/controls",
          "model_name": "DescriptionStyleModel",
          "model_module_version": "1.5.0",
          "state": {
            "_model_module": "@jupyter-widgets/controls",
            "_model_module_version": "1.5.0",
            "_model_name": "DescriptionStyleModel",
            "_view_count": null,
            "_view_module": "@jupyter-widgets/base",
            "_view_module_version": "1.2.0",
            "_view_name": "StyleView",
            "description_width": ""
          }
        }
      }
    }
  },
  "cells": [
    {
      "cell_type": "code",
      "execution_count": 1,
      "metadata": {
        "id": "Ts2_q9bsPlB8"
      },
      "outputs": [],
      "source": [
        "#!pip install -U pip setuptools"
      ]
    },
    {
      "cell_type": "code",
      "source": [
        "#!pip install concrete-ml transformers datasets"
      ],
      "metadata": {
        "id": "ZQfmx6a2Sg67"
      },
      "execution_count": 2,
      "outputs": []
    },
    {
      "cell_type": "code",
      "source": [
        "from bs4 import BeautifulSoup\n",
        "\n",
        "def remove_html_tags(text):\n",
        "    soup = BeautifulSoup(text, \"html.parser\")\n",
        "    return soup.get_text()"
      ],
      "metadata": {
        "id": "5lC8DCiO9xbJ"
      },
      "execution_count": 3,
      "outputs": []
    },
    {
      "cell_type": "code",
      "source": [
        "from datasets import load_dataset\n",
        "# Load the dataset\n",
        "dataset = load_dataset(\"imdb\")\n",
        "train_data = dataset[\"train\"].to_pandas()\n",
        "\n",
        "test_data = dataset[\"test\"].to_pandas()"
      ],
      "metadata": {
        "colab": {
          "base_uri": "https://localhost:8080/",
          "height": 86,
          "referenced_widgets": [
            "5ceb8b790eb84358afb5abbffe0c815a",
            "aef8fa013a4340aaa6a3db506404d072",
            "3f1e152539f94d94a25d779fb61aeacf",
            "32526b6068ac4ee7b77f4ac9c2454f16",
            "304a249b08814dfea9de9a9d031087b2",
            "357c7b2ed2eb4c19bcc102d4bc795a7d",
            "40bbad72b0c849f380959a461deeb1e7",
            "b81a2e3d40fe4f6db20a39d98fbdd49d",
            "dfc68d2db61a4a11a597b14ba86722f8",
            "a223f9abe100443e86353c66b8d0ea62",
            "ac32afddb3e8457a8abd55164c1b2a7c"
          ]
        },
        "id": "i1kCQwJGSiRa",
        "outputId": "70b9c687-1167-4c03-e96e-0121bf18c787"
      },
      "execution_count": 4,
      "outputs": [
        {
          "output_type": "stream",
          "name": "stderr",
          "text": [
            "WARNING:datasets.builder:Found cached dataset imdb (/root/.cache/huggingface/datasets/imdb/plain_text/1.0.0/d613c88cf8fa3bab83b4ded3713f1f74830d1100e171db75bbddb80b3345c9c0)\n"
          ]
        },
        {
          "output_type": "display_data",
          "data": {
            "text/plain": [
              "  0%|          | 0/3 [00:00<?, ?it/s]"
            ],
            "application/vnd.jupyter.widget-view+json": {
              "version_major": 2,
              "version_minor": 0,
              "model_id": "5ceb8b790eb84358afb5abbffe0c815a"
            }
          },
          "metadata": {}
        }
      ]
    },
    {
      "cell_type": "code",
      "source": [
        "import matplotlib.pyplot as plt\n",
        "import seaborn as sns\n",
        "\n",
        "fig, axes = plt.subplots(1, 2)\n",
        "\n",
        "sns.countplot(x=\"label\", data=train_data, ax=axes[0])\n",
        "axes[0].set_title(\"Train Data\")\n",
        "\n",
        "sns.countplot(x=\"label\", data=test_data, ax=axes[1])\n",
        "axes[1].set_title(\"Test Data\")\n",
        "\n",
        "plt.tight_layout()\n",
        "plt.show()\n",
        "\n",
        "# Print information about the train data\n",
        "print(f\"Train data length: {len(train_data)}\")\n",
        "print(f\"Number of instances of class 0 in train data: {sum(train_data['label'] == 0)}\")\n",
        "print(f\"Number of instances of class 1 in train data: {sum(train_data['label'] == 1)}\")\n",
        "\n",
        "# Print information about the test data\n",
        "print(f\"Test data length: {len(test_data)}\")\n",
        "print(f\"Number of instances of class 0 in test data: {sum(test_data['label'] == 0)}\")\n",
        "print(f\"Number of instances of class 1 in test data: {sum(test_data['label'] == 1)}\")"
      ],
      "metadata": {
        "colab": {
          "base_uri": "https://localhost:8080/",
          "height": 591
        },
        "id": "CPk_-EvHAvjf",
        "outputId": "90d07331-9e68-4a53-fdb6-7fbd37d6c35e"
      },
      "execution_count": 5,
      "outputs": [
        {
          "output_type": "display_data",
          "data": {
            "text/plain": [
              "<Figure size 640x480 with 2 Axes>"
            ],
            "image/png": "[encoded data removed]"
          },
          "metadata": {}
        },
        {
          "output_type": "stream",
          "name": "stdout",
          "text": [
            "Train data length: 25000\n",
            "Number of instances of class 0 in train data: 12500\n",
            "Number of instances of class 1 in train data: 12500\n",
            "Test data length: 25000\n",
            "Number of instances of class 0 in test data: 12500\n",
            "Number of instances of class 1 in test data: 12500\n"
          ]
        }
      ]
    },
    {
      "cell_type": "code",
      "source": [
        "# Remove HTML tags\n",
        "train_data['text'] = train_data['text'].apply(remove_html_tags)\n",
        "test_data['text'] = test_data['text'].apply(remove_html_tags)"
      ],
      "metadata": {
        "colab": {
          "base_uri": "https://localhost:8080/"
        },
        "id": "nVtWtUFn-Hso",
        "outputId": "66b3eba2-34ac-4f33-8fea-3c819301f85d"
      },
      "execution_count": 6,
      "outputs": [
        {
          "output_type": "stream",
          "name": "stderr",
          "text": [
            "<ipython-input-3-273477798574>:4: MarkupResemblesLocatorWarning: The input looks more like a filename than markup. You may want to open this file and pass the filehandle into Beautiful Soup.\n",
            "  soup = BeautifulSoup(text, \"html.parser\")\n"
          ]
        }
      ]
    },
    {
      "cell_type": "code",
      "source": [
        "from sklearn.model_selection import train_test_split\n",
        "# Split the data into training and validation\n",
        "train_data, val_data = train_test_split(train_data, test_size=0.2, random_state=42)"
      ],
      "metadata": {
        "id": "0xX32rXZ7QN8"
      },
      "execution_count": 7,
      "outputs": []
    },
    {
      "cell_type": "code",
      "source": [
        "# Separate the features and the labels\n",
        "text_X_train = train_data['text']\n",
        "y_train = train_data['label']\n",
        "\n",
        "text_X_val = val_data['text']\n",
        "y_val = val_data['label']\n",
        "\n",
        "text_X_test = test_data['text']\n",
        "y_test = test_data['label']"
      ],
      "metadata": {
        "id": "ARtjYgrW-3fK"
      },
      "execution_count": 8,
      "outputs": []
    },
    {
      "cell_type": "code",
      "source": [
        "import torch\n",
        "from transformers import AutoModelForSequenceClassification, AutoTokenizer\n",
        "# Define the device\n",
        "device = \"cuda:0\" if torch.cuda.is_available() else \"cpu\"\n",
        "# Load the tokenizer (converts text to tokens)\n",
        "tokenizer = AutoTokenizer.from_pretrained(\"cardiffnlp/twitter-roberta-base-sentiment-latest\")\n",
        "\n",
        "# Load the pre-trained model\n",
        "transformer_model = AutoModelForSequenceClassification.from_pretrained(\n",
        "   \"cardiffnlp/twitter-roberta-base-sentiment-latest\"\n",
        ")"
      ],
      "metadata": {
        "colab": {
          "base_uri": "https://localhost:8080/"
        },
        "id": "MGsm8n74T-zY",
        "outputId": "35a73a55-cc78-4641-9a08-2e055108937f"
      },
      "execution_count": 9,
      "outputs": [
        {
          "output_type": "stream",
          "name": "stderr",
          "text": [
            "Some weights of the model checkpoint at cardiffnlp/twitter-roberta-base-sentiment-latest were not used when initializing RobertaForSequenceClassification: ['roberta.pooler.dense.bias', 'roberta.pooler.dense.weight']\n",
            "- This IS expected if you are initializing RobertaForSequenceClassification from the checkpoint of a model trained on another task or with another architecture (e.g. initializing a BertForSequenceClassification model from a BertForPreTraining model).\n",
            "- This IS NOT expected if you are initializing RobertaForSequenceClassification from the checkpoint of a model that you expect to be exactly identical (initializing a BertForSequenceClassification model from a BertForSequenceClassification model).\n"
          ]
        }
      ]
    },
    {
      "cell_type": "code",
      "source": [
        "# Added max_length to 512, apparently the maximum length for the \"cardiffnlp/twitter-roberta-base-sentiment-latest\" model is 514 tokens\n",
        "# For our data this would end in a RuntimeError: The expanded size of the tensor (653) must match the existing size (514) at non-singleton dimension 1.  Target sizes: [1, 653].  Tensor sizes: [1, 514]\n",
        "import numpy as np\n",
        "import tqdm\n",
        "def text_to_tensor(\n",
        "   list_text_X_train: list,\n",
        "   transformer_model: AutoModelForSequenceClassification,\n",
        "   tokenizer: AutoTokenizer,\n",
        "   device: str,\n",
        "   max_length: int = 512,  # Set the maximum length\n",
        ") -> np.ndarray:\n",
        "   tokenized_text_X_train_split = [\n",
        "       tokenizer.encode(text_x_train, return_tensors=\"pt\", max_length=max_length, truncation=True, padding='max_length')\n",
        "       for text_x_train in list_text_X_train\n",
        "   ]\n",
        "   transformer_model = transformer_model.to(device)\n",
        "   output_hidden_states_list = [None] * len(tokenized_text_X_train_split)\n",
        "   for i, tokenized_x in enumerate(tqdm.tqdm(tokenized_text_X_train_split)):\n",
        "       output_hidden_states = transformer_model(tokenized_x.to(device), output_hidden_states=True)[\n",
        "           1\n",
        "       ][-1]\n",
        "       output_hidden_states = output_hidden_states.mean(dim=1)\n",
        "       output_hidden_states = output_hidden_states.detach().cpu().numpy()\n",
        "       output_hidden_states_list[i] = output_hidden_states\n",
        "   return np.concatenate(output_hidden_states_list, axis=0)"
      ],
      "metadata": {
        "id": "i27IHBTPUB45"
      },
      "execution_count": 10,
      "outputs": []
    },
    {
      "cell_type": "code",
      "source": [
        "# Transform the text into tensors\n",
        "list_text_X_train = text_X_train.tolist()\n",
        "list_text_X_val = text_X_val.tolist()\n",
        "list_text_X_test = text_X_test.tolist()\n",
        "\n",
        "X_train_transformer = text_to_tensor(list_text_X_train, transformer_model, tokenizer, device)\n",
        "X_val_transformer = text_to_tensor(list_text_X_val, transformer_model, tokenizer, device)\n",
        "X_test_transformer = text_to_tensor(list_text_X_test, transformer_model, tokenizer, device)"
      ],
      "metadata": {
        "colab": {
          "base_uri": "https://localhost:8080/"
        },
        "id": "fnLN3ibDUN24",
        "outputId": "a433ebed-497b-4eae-d2d8-246ec677d580"
      },
      "execution_count": 11,
      "outputs": [
        {
          "output_type": "stream",
          "name": "stderr",
          "text": [
            "100%|██████████| 20000/20000 [11:27<00:00, 29.11it/s]\n",
            "100%|██████████| 5000/5000 [02:55<00:00, 28.48it/s]\n",
            "100%|██████████| 25000/25000 [14:34<00:00, 28.60it/s]\n"
          ]
        }
      ]
    },
    {
      "cell_type": "code",
      "source": [
        "from concrete.ml.sklearn import XGBClassifier\n",
        "from sklearn.model_selection import GridSearchCV\n",
        "# Let's build our model\n",
        "model = XGBClassifier()\n",
        "\n",
        "# A gridsearch to find the best parameters\n",
        "parameters = {\n",
        "    \"n_bits\": [2, 3],\n",
        "    \"max_depth\": [1],\n",
        "    \"n_estimators\": [10, 30, 50],\n",
        "    \"n_jobs\": [-1],\n",
        "}\n",
        "\n",
        "# Now we have a representation for each tweet, we can train a model on these.\n",
        "grid_search = GridSearchCV(model, parameters, cv=5, n_jobs=1, scoring=\"accuracy\")\n",
        "grid_search.fit(X_train_transformer, y_train)\n",
        "\n",
        "# Check the accuracy of the best model\n",
        "print(f\"Best score: {grid_search.best_score_}\")\n",
        "\n",
        "# Check best hyperparameters\n",
        "print(f\"Best parameters: {grid_search.best_params_}\")\n",
        "\n",
        "# Extract best model\n",
        "best_model = grid_search.best_estimator_"
      ],
      "metadata": {
        "colab": {
          "base_uri": "https://localhost:8080/"
        },
        "id": "EK78_vsgUQKg",
        "outputId": "0f2a30d7-e0f7-431f-bc89-cb2b24d8cbe9"
      },
      "execution_count": 12,
      "outputs": [
        {
          "output_type": "stream",
          "name": "stdout",
          "text": [
            "Best score: 0.8683500000000001\n",
            "Best parameters: {'max_depth': 1, 'n_bits': 3, 'n_estimators': 50, 'n_jobs': -1}\n"
          ]
        }
      ]
    },
    {
      "cell_type": "code",
      "source": [
        "from sklearn.metrics import ConfusionMatrixDisplay\n",
        "from sklearn.metrics import confusion_matrix\n",
        "from sklearn.metrics import f1_score\n",
        "from sklearn.metrics import accuracy_score\n",
        "\n",
        "# Compute the metrics on the test set\n",
        "y_pred_val = best_model.predict(X_val_transformer)\n",
        "y_proba_val = best_model.predict_proba(X_val_transformer)\n",
        "\n",
        "matrix = confusion_matrix(y_val, y_pred_val)\n",
        "ConfusionMatrixDisplay(matrix, display_labels=['Negative', 'Positive']).plot(values_format='.0f')\n",
        "\n",
        "accuracy_transformer_xgboost = accuracy_score(y_val, y_pred_val)\n",
        "f1score_transformer_xgboost = f1_score(y_val, y_pred_val)\n",
        "\n",
        "print(f\"Accuracy: {accuracy_transformer_xgboost:.4f}\")\n",
        "print(f\"F1 Score: {f1score_transformer_xgboost:.4f}\")"
      ],
      "metadata": {
        "colab": {
          "base_uri": "https://localhost:8080/",
          "height": 484
        },
        "id": "bYazHDwnXwD_",
        "outputId": "67322b47-f4d8-4d36-edf0-9d5b17b8775b"
      },
      "execution_count": 19,
      "outputs": [
        {
          "output_type": "stream",
          "name": "stdout",
          "text": [
            "Accuracy: 0.8664\n",
            "F1 Score: 0.8644\n"
          ]
        },
        {
          "output_type": "display_data",
          "data": {
            "text/plain": [
              "<Figure size 640x480 with 2 Axes>"
            ],
            "image/png": "[encoded data removed]"
          },
          "metadata": {}
        }
      ]
    },
    {
      "cell_type": "code",
      "source": [
        "import time\n",
        "# Compile the model to get the FHE inference engine\n",
        "# (this may take a few minutes depending on the selected model)\n",
        "start = time.perf_counter()\n",
        "best_model.compile(X_train_transformer)\n",
        "end = time.perf_counter()\n",
        "print(f\"Compilation time: {end - start:.4f} seconds\")"
      ],
      "metadata": {
        "colab": {
          "base_uri": "https://localhost:8080/"
        },
        "id": "l3odpBfVZrJ7",
        "outputId": "f1ba96e9-bc20-49ce-e699-99dca2ce0e13"
      },
      "execution_count": 14,
      "outputs": [
        {
          "output_type": "stream",
          "name": "stdout",
          "text": [
            "Compilation time: 18.0042 seconds\n"
          ]
        }
      ]
    },
    {
      "cell_type": "code",
      "source": [
        "# Let's write a custom example and predict in FHE\n",
        "tested_review = [\"This movie is fantastic! I really like it because it is so good!\"]\n",
        "X_tested_review = text_to_tensor(tested_review, transformer_model, tokenizer, device)\n",
        "clear_proba = best_model.predict_proba(X_tested_review)\n",
        "\n",
        "# Now let's predict with FHE over a single sentence and print the time it takes\n",
        "start = time.perf_counter()\n",
        "decrypted_proba = best_model.predict_proba(X_tested_review, fhe='execute')\n",
        "end = time.perf_counter()\n",
        "fhe_exec_time = end - start\n",
        "print(f\"FHE inference time: {fhe_exec_time:.4f} seconds\")\n",
        "\n",
        "print(f\"Probabilities from the FHE inference: {decrypted_proba}\")\n",
        "print(f\"Probabilities from the clear model: {clear_proba}\")"
      ],
      "metadata": {
        "colab": {
          "base_uri": "https://localhost:8080/"
        },
        "id": "Wk8jO4VFp_sL",
        "outputId": "674ca04e-259c-4181-9788-d1fc7fd0671b"
      },
      "execution_count": 15,
      "outputs": [
        {
          "output_type": "stream",
          "name": "stderr",
          "text": [
            "100%|██████████| 1/1 [00:00<00:00,  8.66it/s]\n"
          ]
        },
        {
          "output_type": "stream",
          "name": "stdout",
          "text": [
            "FHE inference time: 14.5873 seconds\n",
            "Probabilities from the FHE inference: [[0.35401525 0.64598475]]\n",
            "Probabilities from the clear model: [[0.35401525 0.64598475]]\n"
          ]
        }
      ]
    },
    {
      "cell_type": "markdown",
      "source": [
        "# Measuring on TEST data"
      ],
      "metadata": {
        "id": "CzyT8x_gK95w"
      }
    },
    {
      "cell_type": "markdown",
      "source": [
        "## Clear Model"
      ],
      "metadata": {
        "id": "Jlz7S8QKOe3U"
      }
    },
    {
      "cell_type": "code",
      "source": [
        "# Make predictions with the clear model\n",
        "start = time.perf_counter()\n",
        "y_pred_clear = best_model.predict(X_test_transformer)\n",
        "end = time.perf_counter()\n",
        "clear_exec_time = end - start\n",
        "print(f\"Clear inference time: {clear_exec_time:.4f} seconds\")"
      ],
      "metadata": {
        "colab": {
          "base_uri": "https://localhost:8080/"
        },
        "id": "YNfxoyo-N0fM",
        "outputId": "5aa1f7d0-3b75-46c3-d29b-31c02fd09026"
      },
      "execution_count": 21,
      "outputs": [
        {
          "output_type": "stream",
          "name": "stdout",
          "text": [
            "Clear inference time: 2.6525 seconds\n"
          ]
        }
      ]
    },
    {
      "cell_type": "code",
      "source": [
        "# Calculate and print performance metrics for the clear model\n",
        "matrix = confusion_matrix(y_test, y_pred_clear)\n",
        "ConfusionMatrixDisplay(matrix, display_labels=['Negative', 'Positive']).plot(values_format='.0f')\n",
        "plt.title(\"Confusion matrix for the clear model\")\n",
        "plt.show()\n",
        "\n",
        "accuracy_clear = accuracy_score(y_test, y_pred_clear)\n",
        "f1score_clear = f1_score(y_test, y_pred_clear)\n",
        "\n",
        "print(f\"Clear model Accuracy: {accuracy_clear:.4f}\")\n",
        "print(f\"Clear model F1 Score: {f1score_clear:.4f}\")"
      ],
      "metadata": {
        "colab": {
          "base_uri": "https://localhost:8080/",
          "height": 507
        },
        "id": "xfht9zn1OiRZ",
        "outputId": "7d3b6a73-f208-4210-dc3c-3c8ef10e3de8"
      },
      "execution_count": 22,
      "outputs": [
        {
          "output_type": "display_data",
          "data": {
            "text/plain": [
              "<Figure size 640x480 with 2 Axes>"
            ],
            "image/png": "[encoded data removed]"
          },
          "metadata": {}
        },
        {
          "output_type": "stream",
          "name": "stdout",
          "text": [
            "Clear model Accuracy: 0.8657\n",
            "Clear model F1 Score: 0.8649\n"
          ]
        }
      ]
    },
    {
      "cell_type": "markdown",
      "source": [
        "## FHE model"
      ],
      "metadata": {
        "id": "b2fJ2mHhOr2T"
      }
    },
    {
      "cell_type": "code",
      "source": [
        "# # Correct version - full length (25k)\n",
        "# # Make predictions with the FHE model\n",
        "# start = time.perf_counter()\n",
        "# y_pred_fhe = best_model.predict(X_test_transformer, fhe='execute')\n",
        "# end = time.perf_counter()\n",
        "# fhe_exec_time = end - start\n",
        "# print(f\"FHE inference time: {fhe_exec_time:.4f} seconds\")"
      ],
      "metadata": {
        "id": "TzPp8lMAP35A"
      },
      "execution_count": null,
      "outputs": []
    },
    {
      "cell_type": "code",
      "source": [
        "# # Correct version - full length (25k)\n",
        "# # Calculate and print performance metrics for the FHE model\n",
        "# matrix = confusion_matrix(y_test, y_pred_fhe)\n",
        "# ConfusionMatrixDisplay(matrix, display_labels=['Negative', 'Positive']).plot(values_format='.0f')\n",
        "# plt.title(\"Confusion matrix for the FHE model\")\n",
        "# plt.show()\n",
        "\n",
        "# accuracy_fhe = accuracy_score(y_test, y_pred_fhe)\n",
        "# f1score_fhe = f1_score(y_test, y_pred_fhe)\n",
        "\n",
        "# print(f\"FHE model Accuracy: {accuracy_fhe:.4f}\")\n",
        "# print(f\"FHE model F1 Score: {f1score_fhe:.4f}\")"
      ],
      "metadata": {
        "id": "jK4Uk_pbOxXB"
      },
      "execution_count": null,
      "outputs": []
    },
    {
      "cell_type": "markdown",
      "source": [
        "# FHE vs CLEAR sample comparison"
      ],
      "metadata": {
        "id": "z_bxPrCbRfUu"
      }
    },
    {
      "cell_type": "code",
      "source": [
        "# Define random state for reproducibility\n",
        "random_state = 42\n",
        "\n",
        "# Select random 100 samples from the test data\n",
        "random_sample_indices = y_test.sample(100, random_state=random_state).index\n",
        "X_test_transformer_sample = X_test_transformer[random_sample_indices]\n",
        "y_test_sample = y_test[random_sample_indices]"
      ],
      "metadata": {
        "id": "dMD1ETqARrHm"
      },
      "execution_count": 25,
      "outputs": []
    },
    {
      "cell_type": "code",
      "source": [
        "# Make predictions with the clear model\n",
        "y_pred_clear = best_model.predict(X_test_transformer_sample)\n",
        "\n",
        "# Compute and print accuracy and confusion matrix for clear model\n",
        "matrix_clear = confusion_matrix(y_test_sample, y_pred_clear)\n",
        "ConfusionMatrixDisplay(matrix_clear, display_labels=['Negative', 'Positive']).plot(values_format='.0f')\n",
        "plt.title('Clear Model')\n",
        "\n",
        "accuracy_clear = accuracy_score(y_test_sample, y_pred_clear)\n",
        "f1score_clear = f1_score(y_test_sample, y_pred_clear)\n",
        "\n",
        "print(f\"Clear model accuracy: {accuracy_clear:.4f}\")\n",
        "print(f\"Clear model F1 Score: {f1score_clear:.4f}\")"
      ],
      "metadata": {
        "colab": {
          "base_uri": "https://localhost:8080/",
          "height": 507
        },
        "id": "XpYsnGb4QD_v",
        "outputId": "c3d468a9-84db-4e71-9b17-7eb59a2e9afd"
      },
      "execution_count": 26,
      "outputs": [
        {
          "output_type": "stream",
          "name": "stdout",
          "text": [
            "Clear model accuracy: 0.8400\n",
            "Clear model F1 Score: 0.8491\n"
          ]
        },
        {
          "output_type": "display_data",
          "data": {
            "text/plain": [
              "<Figure size 640x480 with 2 Axes>"
            ],
            "image/png": "[encoded data removed]"
          },
          "metadata": {}
        }
      ]
    },
    {
      "cell_type": "code",
      "source": [
        "# Make predictions with the FHE model\n",
        "start = time.perf_counter()\n",
        "y_pred_fhe = best_model.predict(X_test_transformer_sample, fhe='execute')\n",
        "end = time.perf_counter()\n",
        "\n",
        "print(f\"FHE inference time: {end - start:.4f} seconds\")\n",
        "\n",
        "# Compute and print accuracy and confusion matrix for FHE model\n",
        "matrix_fhe = confusion_matrix(y_test_sample, y_pred_fhe)\n",
        "ConfusionMatrixDisplay(matrix_fhe, display_labels=['Negative', 'Positive']).plot(values_format='.0f')\n",
        "plt.title('FHE Model')\n",
        "\n",
        "accuracy_fhe = accuracy_score(y_test_sample, y_pred_fhe)\n",
        "f1score_fhe = f1_score(y_test_sample, y_pred_fhe)\n",
        "\n",
        "print(f\"FHE model accuracy: {accuracy_fhe:.4f}\")\n",
        "print(f\"FHE model F1 Score: {f1score_fhe:.4f}\")"
      ],
      "metadata": {
        "colab": {
          "base_uri": "https://localhost:8080/",
          "height": 524
        },
        "id": "W-aRs58AQFeI",
        "outputId": "deb31d0f-2bcb-4a52-b2a8-9fd90af6ec29"
      },
      "execution_count": 27,
      "outputs": [
        {
          "output_type": "stream",
          "name": "stdout",
          "text": [
            "FHE inference time: 557.7902 seconds\n",
            "FHE model accuracy: 0.8400\n",
            "FHE model F1 Score: 0.8491\n"
          ]
        },
        {
          "output_type": "display_data",
          "data": {
            "text/plain": [
              "<Figure size 640x480 with 2 Axes>"
            ],
            "image/png": "[encoded data removed]"
          },
          "metadata": {}
        }
      ]
    },
    {
      "cell_type": "code",
      "source": [],
      "metadata": {
        "id": "PM-bnwYJR3gv"
      },
      "execution_count": null,
      "outputs": []
    }
  ]
}